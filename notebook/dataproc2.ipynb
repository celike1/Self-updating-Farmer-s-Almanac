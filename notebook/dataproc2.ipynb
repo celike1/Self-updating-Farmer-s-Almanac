{
 "cells": [
  {
   "cell_type": "code",
   "execution_count": null,
   "metadata": {},
   "outputs": [],
   "source": [
    "import pandas as pd\n",
    "from joblib import load\n",
    "\n",
    "data = pd.read_excel('.csv')\n",
    "\n",
    "model = load('best_classification_model.joblib')\n",
    "\n",
    "features = data.iloc[:, :]\n",
    "\n",
    "predictions = model.predict(features)\n",
    "\n",
    "data['Predictions'] = predictions\n",
    "data.to_csv('withpredictions.csv', index=False)"
   ]
  }
 ],
 "metadata": {
  "language_info": {
   "name": "python"
  }
 },
 "nbformat": 4,
 "nbformat_minor": 2
}
